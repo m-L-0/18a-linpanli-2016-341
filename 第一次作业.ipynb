{
 "cells": [
  {
   "cell_type": "markdown",
   "metadata": {},
   "source": [
    "1.在一个notebook文件中构建一张图，实现两个数的加法操作，并在两个不同的会话中执行图。"
   ]
  },
  {
   "cell_type": "code",
   "execution_count": 12,
   "metadata": {},
   "outputs": [
    {
     "name": "stdout",
     "output_type": "stream",
     "text": [
      "8\n"
     ]
    }
   ],
   "source": [
    "#2 数据流图，会话\n",
    "import tensorflow as tf\n",
    "#创建图（加法）\n",
    "a = tf.add(3,5)\n",
    "#创建会话\n",
    "sess = tf.Session()\n",
    "#执行图\n",
    "res = sess.run(a)\n",
    "print(res)\n",
    "#关闭会话\n",
    "sess.close()"
   ]
  },
  {
   "cell_type": "code",
   "execution_count": 13,
   "metadata": {},
   "outputs": [
    {
     "name": "stdout",
     "output_type": "stream",
     "text": [
      "8\n"
     ]
    }
   ],
   "source": [
    "with tf.Session() as sess:\n",
    "    print(sess.run(a))"
   ]
  },
  {
   "cell_type": "markdown",
   "metadata": {},
   "source": [
    "2.查找资料学习TensorFlow中执行常量基本运算API的基本用法，如`tf.add`、`tf.subtract`、`tf.multiply`、`tf.divide`、`tf.mod`、`tf.pow`、`tf.square`、`tf.sqrt`等的用法，并在notebook中演示其基本用法"
   ]
  },
  {
   "cell_type": "code",
   "execution_count": 61,
   "metadata": {},
   "outputs": [
    {
     "name": "stdout",
     "output_type": "stream",
     "text": [
      "[8, 2, 15, 2.0, 0, 8, 4, 3.0]\n"
     ]
    }
   ],
   "source": [
    "#加法\n",
    "a = tf.add(3, 5)\n",
    "#减法\n",
    "b = tf.subtract(5, 3)\n",
    "#乘法\n",
    "c = tf.multiply(3, 5)\n",
    "#除法(x,y必须是tensor对象)\n",
    "x = tf.constant(6)\n",
    "y = tf.constant(3)\n",
    "d = tf.divide(x, y)\n",
    "#取模\n",
    "e = tf.mod(1, -1)\n",
    "#幂次方\n",
    "f = tf.pow(2, 3)\n",
    "#乘方\n",
    "g = tf.square(2)\n",
    "#开方,参数是float\n",
    "h = tf.sqrt(9.)\n",
    "with tf.Session() as sess:\n",
    "    print(sess.run([a, b, c, d, e, f, g, h]))"
   ]
  },
  {
   "cell_type": "markdown",
   "metadata": {},
   "source": [
    "有一4阶张量`img`其`shape=[10, 28, 28, 3])`，代表10张28*28像素的3通道RGB图像，问："
   ]
  },
  {
   "cell_type": "code",
   "execution_count": null,
   "metadata": {},
   "outputs": [],
   "source": [
    "1.img[1]\n",
    "2.tf.slice(img, [1, 0, 0, 0], [1, 28, 28, 3])\n",
    "3.索引：取出数集中元素；\n",
    "切片：用极少的代码将数组元素按需处理的一种方法。\n",
    "4.  i = 1\n",
    "    for i in range(count+1):\n",
    "        res = tf.slice(img, [i, 0, 0, 0], [1, 28, 28, 3])\n",
    "        i = i + 2\n",
    "        print(res)\n",
    "5.img6 = tf.slice(img, [5, 6, 6, 0], [1, 14, 14, 3])\n",
    "img7 = tf.slice(img, [6, 6, 6, 0], [1, 14, 14, 3])\n",
    "6.# 将张量分裂成子张量\n",
    "split0, split1, split2 = tf.split(a, [1, 1, 1], 3)\n",
    "m=tf.shape(split0) \n",
    "n=tf.shape(split1) \n",
    "p=tf.shape(split2) \n",
    "7.  4   TensorShape([Dimension(10), Dimension(28), Dimension(28), Dimension(3)])"
   ]
  }
 ],
 "metadata": {
  "kernelspec": {
   "display_name": "Python 3",
   "language": "python",
   "name": "python3"
  },
  "language_info": {
   "codemirror_mode": {
    "name": "ipython",
    "version": 3
   },
   "file_extension": ".py",
   "mimetype": "text/x-python",
   "name": "python",
   "nbconvert_exporter": "python",
   "pygments_lexer": "ipython3",
   "version": "3.6.4"
  }
 },
 "nbformat": 4,
 "nbformat_minor": 2
}
