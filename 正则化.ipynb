{
 "cells": [
  {
   "cell_type": "code",
   "execution_count": null,
   "metadata": {},
   "outputs": [],
   "source": [
    "# 二元线性回归模型\n",
    "def model(X, W, b):\n",
    "    '''\n",
    "    Args:\n",
    "        x：模型输入向量\n",
    "        w：模型连接权重向量\n",
    "        b：模型的偏置值\n",
    "    Return：\n",
    "        返回模型输出结果\n",
    "    '''\n",
    "    X = np.array(X)\n",
    "    \n",
    "    return np.sum(X * W) + b\n",
    "Wt = tf.transpose(W)\n",
    "loss = tf.square(yi-model(X, W, b)) + 0.5*a*Wt*W "
   ]
  },
  {
   "cell_type": "code",
   "execution_count": null,
   "metadata": {},
   "outputs": [],
   "source": []
  },
  {
   "cell_type": "code",
   "execution_count": 1,
   "metadata": {},
   "outputs": [
    {
     "name": "stderr",
     "output_type": "stream",
     "text": [
      "D:\\anaconda\\anaconda\\lib\\site-packages\\h5py\\__init__.py:36: FutureWarning: Conversion of the second argument of issubdtype from `float` to `np.floating` is deprecated. In future, it will be treated as `np.float64 == np.dtype(float).type`.\n",
      "  from ._conv import register_converters as _register_converters\n"
     ]
    },
    {
     "name": "stdout",
     "output_type": "stream",
     "text": [
      "5.0\n",
      "7.5\n",
      "12.5\n"
     ]
    }
   ],
   "source": [
    "# tf.contrib.layers.l2_regularizer\n",
    "# tf.contrib.layers.l1_regularizer\n",
    "import tensorflow as tf\n",
    "import tensorflow.contrib as contrib\n",
    "\n",
    "weight = tf.constant([[1.0, -2.0], [-3.0, 4.0]])\n",
    "with tf.Session() as sess:\n",
    "    # 输出为(|1|+|-2|+|-3|+|4|)*0.5=5\n",
    "    print(sess.run(contrib.layers.l1_regularizer(0.5)(weight)))\n",
    "    # 输出为(1²+(-2)²+(-3)²+4²)/2*0.5=7.5\n",
    "    # TensorFlow会将L2的正则化损失值除以2使得求导得到的结果更加简洁\n",
    "    print(sess.run(contrib.layers.l2_regularizer(0.5)(weight)))\n",
    "    # l1_regularizer+l2_regularizer\n",
    "    print(sess.run(contrib.layers.l1_l2_regularizer(0.5, 0.5)(weight)))"
   ]
  },
  {
   "cell_type": "code",
   "execution_count": 2,
   "metadata": {},
   "outputs": [
    {
     "name": "stdout",
     "output_type": "stream",
     "text": [
      "0.1\n"
     ]
    }
   ],
   "source": [
    "#  tf.contrib.layers.apply_regularization\n",
    "regularizer = tf.contrib.layers.l2_regularizer(0.1)\n",
    "a = tf.get_variable(\"a\", [1], initializer=tf.constant_initializer(1.0))\n",
    "b = tf.get_variable(\"b\", [1], initializer=tf.constant_initializer(1.0))\n",
    "            \n",
    "tf.contrib.layers.apply_regularization(regularizer, weights_list=[a, b])\n",
    "init_op = tf.global_variables_initializer()\n",
    "loss = tf.add_n(tf.get_collection(tf.GraphKeys.REGULARIZATION_LOSSES))\n",
    "        \n",
    "with tf.Session() as sess:\n",
    "    sess.run(init_op)\n",
    "    res = sess.run(loss)\n",
    "    print(res)"
   ]
  },
  {
   "cell_type": "code",
   "execution_count": null,
   "metadata": {},
   "outputs": [],
   "source": []
  }
 ],
 "metadata": {
  "kernelspec": {
   "display_name": "Python 3",
   "language": "python",
   "name": "python3"
  },
  "language_info": {
   "codemirror_mode": {
    "name": "ipython",
    "version": 3
   },
   "file_extension": ".py",
   "mimetype": "text/x-python",
   "name": "python",
   "nbconvert_exporter": "python",
   "pygments_lexer": "ipython3",
   "version": "3.6.4"
  }
 },
 "nbformat": 4,
 "nbformat_minor": 2
}
